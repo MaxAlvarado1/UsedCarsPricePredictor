{
 "cells": [
  {
   "cell_type": "markdown",
   "metadata": {},
   "source": [
    "## Import data from Kaggle\n",
    "\n",
    "We are using the \"US Used cars dataset\" from \"https://www.kaggle.com/datasets/ananaymital/us-used-cars-dataset/data\""
   ]
  },
  {
   "cell_type": "code",
   "execution_count": 1,
   "metadata": {},
   "outputs": [],
   "source": [
    "import os \n",
    "import kaggle"
   ]
  },
  {
   "cell_type": "code",
   "execution_count": 2,
   "metadata": {},
   "outputs": [],
   "source": [
    "kaggleDataset = \"ananaymital/us-used-cars-dataset\"\n",
    "datasetPath = os.path.join(\"dataset\", \"Used Cars\")"
   ]
  },
  {
   "cell_type": "code",
   "execution_count": 3,
   "metadata": {},
   "outputs": [
    {
     "name": "stdout",
     "output_type": "stream",
     "text": [
      "Dataset URL: https://www.kaggle.com/datasets/ananaymital/us-used-cars-dataset\n"
     ]
    }
   ],
   "source": [
    "kaggle.api.dataset_download_files(kaggleDataset, datasetPath, unzip=True)"
   ]
  },
  {
   "cell_type": "code",
   "execution_count": 4,
   "metadata": {},
   "outputs": [
    {
     "name": "stderr",
     "output_type": "stream",
     "text": [
      "c:\\Users\\maxim\\anaconda3\\lib\\site-packages\\pandas\\core\\computation\\expressions.py:21: UserWarning: Pandas requires version '2.8.4' or newer of 'numexpr' (version '2.7.3' currently installed).\n",
      "  from pandas.core.computation.check import NUMEXPR_INSTALLED\n",
      "c:\\Users\\maxim\\anaconda3\\lib\\site-packages\\pandas\\core\\arrays\\masked.py:60: UserWarning: Pandas requires version '1.3.6' or newer of 'bottleneck' (version '1.3.2' currently installed).\n",
      "  from pandas.core import (\n"
     ]
    }
   ],
   "source": [
    "import pandas as pd \n",
    "\n",
    "def loadCarData(datasetPath=datasetPath):\n",
    "    csvPath = os.path.join(datasetPath, \"used_cars_data.csv\")\n",
    "    return pd.read_csv(csvPath, nrows=200000, low_memory=False)"
   ]
  },
  {
   "cell_type": "markdown",
   "metadata": {},
   "source": [
    "## Examine quick info about the data structure"
   ]
  },
  {
   "cell_type": "code",
   "execution_count": 5,
   "metadata": {},
   "outputs": [
    {
     "data": {
      "text/html": [
       "<div>\n",
       "<style scoped>\n",
       "    .dataframe tbody tr th:only-of-type {\n",
       "        vertical-align: middle;\n",
       "    }\n",
       "\n",
       "    .dataframe tbody tr th {\n",
       "        vertical-align: top;\n",
       "    }\n",
       "\n",
       "    .dataframe thead th {\n",
       "        text-align: right;\n",
       "    }\n",
       "</style>\n",
       "<table border=\"1\" class=\"dataframe\">\n",
       "  <thead>\n",
       "    <tr style=\"text-align: right;\">\n",
       "      <th></th>\n",
       "      <th>vin</th>\n",
       "      <th>back_legroom</th>\n",
       "      <th>bed</th>\n",
       "      <th>bed_height</th>\n",
       "      <th>bed_length</th>\n",
       "      <th>body_type</th>\n",
       "      <th>cabin</th>\n",
       "      <th>city</th>\n",
       "      <th>city_fuel_economy</th>\n",
       "      <th>combine_fuel_economy</th>\n",
       "      <th>...</th>\n",
       "      <th>transmission</th>\n",
       "      <th>transmission_display</th>\n",
       "      <th>trimId</th>\n",
       "      <th>trim_name</th>\n",
       "      <th>vehicle_damage_category</th>\n",
       "      <th>wheel_system</th>\n",
       "      <th>wheel_system_display</th>\n",
       "      <th>wheelbase</th>\n",
       "      <th>width</th>\n",
       "      <th>year</th>\n",
       "    </tr>\n",
       "  </thead>\n",
       "  <tbody>\n",
       "    <tr>\n",
       "      <th>0</th>\n",
       "      <td>ZACNJABB5KPJ92081</td>\n",
       "      <td>35.1 in</td>\n",
       "      <td>NaN</td>\n",
       "      <td>NaN</td>\n",
       "      <td>NaN</td>\n",
       "      <td>SUV / Crossover</td>\n",
       "      <td>NaN</td>\n",
       "      <td>Bayamon</td>\n",
       "      <td>NaN</td>\n",
       "      <td>NaN</td>\n",
       "      <td>...</td>\n",
       "      <td>A</td>\n",
       "      <td>9-Speed Automatic Overdrive</td>\n",
       "      <td>t83804</td>\n",
       "      <td>Latitude FWD</td>\n",
       "      <td>NaN</td>\n",
       "      <td>FWD</td>\n",
       "      <td>Front-Wheel Drive</td>\n",
       "      <td>101.2 in</td>\n",
       "      <td>79.6 in</td>\n",
       "      <td>2019</td>\n",
       "    </tr>\n",
       "    <tr>\n",
       "      <th>1</th>\n",
       "      <td>SALCJ2FX1LH858117</td>\n",
       "      <td>38.1 in</td>\n",
       "      <td>NaN</td>\n",
       "      <td>NaN</td>\n",
       "      <td>NaN</td>\n",
       "      <td>SUV / Crossover</td>\n",
       "      <td>NaN</td>\n",
       "      <td>San Juan</td>\n",
       "      <td>NaN</td>\n",
       "      <td>NaN</td>\n",
       "      <td>...</td>\n",
       "      <td>A</td>\n",
       "      <td>9-Speed Automatic Overdrive</td>\n",
       "      <td>t86759</td>\n",
       "      <td>S AWD</td>\n",
       "      <td>NaN</td>\n",
       "      <td>AWD</td>\n",
       "      <td>All-Wheel Drive</td>\n",
       "      <td>107.9 in</td>\n",
       "      <td>85.6 in</td>\n",
       "      <td>2020</td>\n",
       "    </tr>\n",
       "    <tr>\n",
       "      <th>2</th>\n",
       "      <td>JF1VA2M67G9829723</td>\n",
       "      <td>35.4 in</td>\n",
       "      <td>NaN</td>\n",
       "      <td>NaN</td>\n",
       "      <td>NaN</td>\n",
       "      <td>Sedan</td>\n",
       "      <td>NaN</td>\n",
       "      <td>Guaynabo</td>\n",
       "      <td>17.0</td>\n",
       "      <td>NaN</td>\n",
       "      <td>...</td>\n",
       "      <td>M</td>\n",
       "      <td>6-Speed Manual</td>\n",
       "      <td>t58994</td>\n",
       "      <td>Base</td>\n",
       "      <td>NaN</td>\n",
       "      <td>AWD</td>\n",
       "      <td>All-Wheel Drive</td>\n",
       "      <td>104.3 in</td>\n",
       "      <td>78.9 in</td>\n",
       "      <td>2016</td>\n",
       "    </tr>\n",
       "    <tr>\n",
       "      <th>3</th>\n",
       "      <td>SALRR2RV0L2433391</td>\n",
       "      <td>37.6 in</td>\n",
       "      <td>NaN</td>\n",
       "      <td>NaN</td>\n",
       "      <td>NaN</td>\n",
       "      <td>SUV / Crossover</td>\n",
       "      <td>NaN</td>\n",
       "      <td>San Juan</td>\n",
       "      <td>NaN</td>\n",
       "      <td>NaN</td>\n",
       "      <td>...</td>\n",
       "      <td>A</td>\n",
       "      <td>8-Speed Automatic Overdrive</td>\n",
       "      <td>t86074</td>\n",
       "      <td>V6 HSE AWD</td>\n",
       "      <td>NaN</td>\n",
       "      <td>AWD</td>\n",
       "      <td>All-Wheel Drive</td>\n",
       "      <td>115 in</td>\n",
       "      <td>87.4 in</td>\n",
       "      <td>2020</td>\n",
       "    </tr>\n",
       "    <tr>\n",
       "      <th>4</th>\n",
       "      <td>SALCJ2FXXLH862327</td>\n",
       "      <td>38.1 in</td>\n",
       "      <td>NaN</td>\n",
       "      <td>NaN</td>\n",
       "      <td>NaN</td>\n",
       "      <td>SUV / Crossover</td>\n",
       "      <td>NaN</td>\n",
       "      <td>San Juan</td>\n",
       "      <td>NaN</td>\n",
       "      <td>NaN</td>\n",
       "      <td>...</td>\n",
       "      <td>A</td>\n",
       "      <td>9-Speed Automatic Overdrive</td>\n",
       "      <td>t86759</td>\n",
       "      <td>S AWD</td>\n",
       "      <td>NaN</td>\n",
       "      <td>AWD</td>\n",
       "      <td>All-Wheel Drive</td>\n",
       "      <td>107.9 in</td>\n",
       "      <td>85.6 in</td>\n",
       "      <td>2020</td>\n",
       "    </tr>\n",
       "  </tbody>\n",
       "</table>\n",
       "<p>5 rows × 66 columns</p>\n",
       "</div>"
      ],
      "text/plain": [
       "                 vin back_legroom  bed bed_height bed_length        body_type  \\\n",
       "0  ZACNJABB5KPJ92081      35.1 in  NaN        NaN        NaN  SUV / Crossover   \n",
       "1  SALCJ2FX1LH858117      38.1 in  NaN        NaN        NaN  SUV / Crossover   \n",
       "2  JF1VA2M67G9829723      35.4 in  NaN        NaN        NaN            Sedan   \n",
       "3  SALRR2RV0L2433391      37.6 in  NaN        NaN        NaN  SUV / Crossover   \n",
       "4  SALCJ2FXXLH862327      38.1 in  NaN        NaN        NaN  SUV / Crossover   \n",
       "\n",
       "  cabin      city  city_fuel_economy  combine_fuel_economy  ...  transmission  \\\n",
       "0   NaN   Bayamon                NaN                   NaN  ...             A   \n",
       "1   NaN  San Juan                NaN                   NaN  ...             A   \n",
       "2   NaN  Guaynabo               17.0                   NaN  ...             M   \n",
       "3   NaN  San Juan                NaN                   NaN  ...             A   \n",
       "4   NaN  San Juan                NaN                   NaN  ...             A   \n",
       "\n",
       "          transmission_display  trimId     trim_name  vehicle_damage_category  \\\n",
       "0  9-Speed Automatic Overdrive  t83804  Latitude FWD                      NaN   \n",
       "1  9-Speed Automatic Overdrive  t86759         S AWD                      NaN   \n",
       "2               6-Speed Manual  t58994          Base                      NaN   \n",
       "3  8-Speed Automatic Overdrive  t86074    V6 HSE AWD                      NaN   \n",
       "4  9-Speed Automatic Overdrive  t86759         S AWD                      NaN   \n",
       "\n",
       "  wheel_system wheel_system_display wheelbase    width  year  \n",
       "0          FWD    Front-Wheel Drive  101.2 in  79.6 in  2019  \n",
       "1          AWD      All-Wheel Drive  107.9 in  85.6 in  2020  \n",
       "2          AWD      All-Wheel Drive  104.3 in  78.9 in  2016  \n",
       "3          AWD      All-Wheel Drive    115 in  87.4 in  2020  \n",
       "4          AWD      All-Wheel Drive  107.9 in  85.6 in  2020  \n",
       "\n",
       "[5 rows x 66 columns]"
      ]
     },
     "execution_count": 5,
     "metadata": {},
     "output_type": "execute_result"
    }
   ],
   "source": [
    "cars = loadCarData()\n",
    "cars.head()"
   ]
  },
  {
   "cell_type": "code",
   "execution_count": 6,
   "metadata": {},
   "outputs": [
    {
     "name": "stdout",
     "output_type": "stream",
     "text": [
      "<class 'pandas.core.frame.DataFrame'>\n",
      "RangeIndex: 200000 entries, 0 to 199999\n",
      "Data columns (total 66 columns):\n",
      " #   Column                   Non-Null Count   Dtype  \n",
      "---  ------                   --------------   -----  \n",
      " 0   vin                      200000 non-null  object \n",
      " 1   back_legroom             190542 non-null  object \n",
      " 2   bed                      1205 non-null    object \n",
      " 3   bed_height               20252 non-null   object \n",
      " 4   bed_length               20252 non-null   object \n",
      " 5   body_type                199210 non-null  object \n",
      " 6   cabin                    3372 non-null    object \n",
      " 7   city                     200000 non-null  object \n",
      " 8   city_fuel_economy        168272 non-null  float64\n",
      " 9   combine_fuel_economy     0 non-null       float64\n",
      " 10  daysonmarket             200000 non-null  int64  \n",
      " 11  dealer_zip               200000 non-null  object \n",
      " 12  description              194926 non-null  object \n",
      " 13  engine_cylinders         194164 non-null  object \n",
      " 14  engine_displacement      189844 non-null  float64\n",
      " 15  engine_type              194164 non-null  object \n",
      " 16  exterior_color           197064 non-null  object \n",
      " 17  fleet                    111477 non-null  object \n",
      " 18  frame_damaged            111477 non-null  object \n",
      " 19  franchise_dealer         200000 non-null  bool   \n",
      " 20  franchise_make           154766 non-null  object \n",
      " 21  front_legroom            190542 non-null  object \n",
      " 22  fuel_tank_volume         190542 non-null  object \n",
      " 23  fuel_type                195356 non-null  object \n",
      " 24  has_accidents            111477 non-null  object \n",
      " 25  height                   190542 non-null  object \n",
      " 26  highway_fuel_economy     168272 non-null  float64\n",
      " 27  horsepower               189844 non-null  float64\n",
      " 28  interior_color           177979 non-null  object \n",
      " 29  isCab                    111477 non-null  object \n",
      " 30  is_certified             0 non-null       float64\n",
      " 31  is_cpo                   17244 non-null   object \n",
      " 32  is_new                   200000 non-null  bool   \n",
      " 33  is_oemcpo                11955 non-null   object \n",
      " 34  latitude                 200000 non-null  float64\n",
      " 35  length                   190542 non-null  object \n",
      " 36  listed_date              200000 non-null  object \n",
      " 37  listing_color            200000 non-null  object \n",
      " 38  listing_id               200000 non-null  int64  \n",
      " 39  longitude                200000 non-null  float64\n",
      " 40  main_picture_url         171788 non-null  object \n",
      " 41  major_options            187628 non-null  object \n",
      " 42  make_name                200000 non-null  object \n",
      " 43  maximum_seating          190542 non-null  object \n",
      " 44  mileage                  191990 non-null  float64\n",
      " 45  model_name               200000 non-null  object \n",
      " 46  owner_count              106480 non-null  float64\n",
      " 47  power                    171788 non-null  object \n",
      " 48  price                    200000 non-null  float64\n",
      " 49  salvage                  111477 non-null  object \n",
      " 50  savings_amount           200000 non-null  int64  \n",
      " 51  seller_rating            198504 non-null  float64\n",
      " 52  sp_id                    199938 non-null  float64\n",
      " 53  sp_name                  200000 non-null  object \n",
      " 54  theft_title              111477 non-null  object \n",
      " 55  torque                   169573 non-null  object \n",
      " 56  transmission             197970 non-null  object \n",
      " 57  transmission_display     197970 non-null  object \n",
      " 58  trimId                   193060 non-null  object \n",
      " 59  trim_name                193022 non-null  object \n",
      " 60  vehicle_damage_category  0 non-null       float64\n",
      " 61  wheel_system             191406 non-null  object \n",
      " 62  wheel_system_display     191406 non-null  object \n",
      " 63  wheelbase                190542 non-null  object \n",
      " 64  width                    190542 non-null  object \n",
      " 65  year                     200000 non-null  int64  \n",
      "dtypes: bool(2), float64(14), int64(4), object(46)\n",
      "memory usage: 98.0+ MB\n"
     ]
    }
   ],
   "source": [
    "cars.info()"
   ]
  },
  {
   "cell_type": "code",
   "execution_count": 7,
   "metadata": {},
   "outputs": [
    {
     "data": {
      "text/html": [
       "<div>\n",
       "<style scoped>\n",
       "    .dataframe tbody tr th:only-of-type {\n",
       "        vertical-align: middle;\n",
       "    }\n",
       "\n",
       "    .dataframe tbody tr th {\n",
       "        vertical-align: top;\n",
       "    }\n",
       "\n",
       "    .dataframe thead th {\n",
       "        text-align: right;\n",
       "    }\n",
       "</style>\n",
       "<table border=\"1\" class=\"dataframe\">\n",
       "  <thead>\n",
       "    <tr style=\"text-align: right;\">\n",
       "      <th></th>\n",
       "      <th>city_fuel_economy</th>\n",
       "      <th>combine_fuel_economy</th>\n",
       "      <th>daysonmarket</th>\n",
       "      <th>engine_displacement</th>\n",
       "      <th>highway_fuel_economy</th>\n",
       "      <th>horsepower</th>\n",
       "      <th>is_certified</th>\n",
       "      <th>latitude</th>\n",
       "      <th>listing_id</th>\n",
       "      <th>longitude</th>\n",
       "      <th>mileage</th>\n",
       "      <th>owner_count</th>\n",
       "      <th>price</th>\n",
       "      <th>savings_amount</th>\n",
       "      <th>seller_rating</th>\n",
       "      <th>sp_id</th>\n",
       "      <th>vehicle_damage_category</th>\n",
       "      <th>year</th>\n",
       "    </tr>\n",
       "  </thead>\n",
       "  <tbody>\n",
       "    <tr>\n",
       "      <th>count</th>\n",
       "      <td>168272.000000</td>\n",
       "      <td>0.0</td>\n",
       "      <td>200000.000000</td>\n",
       "      <td>189844.000000</td>\n",
       "      <td>168272.000000</td>\n",
       "      <td>189844.000000</td>\n",
       "      <td>0.0</td>\n",
       "      <td>200000.000000</td>\n",
       "      <td>2.000000e+05</td>\n",
       "      <td>200000.000000</td>\n",
       "      <td>191990.000000</td>\n",
       "      <td>106480.000000</td>\n",
       "      <td>2.000000e+05</td>\n",
       "      <td>200000.000000</td>\n",
       "      <td>198504.000000</td>\n",
       "      <td>199938.000000</td>\n",
       "      <td>0.0</td>\n",
       "      <td>200000.000000</td>\n",
       "    </tr>\n",
       "    <tr>\n",
       "      <th>mean</th>\n",
       "      <td>22.413081</td>\n",
       "      <td>NaN</td>\n",
       "      <td>79.169025</td>\n",
       "      <td>2845.121257</td>\n",
       "      <td>29.162546</td>\n",
       "      <td>244.913487</td>\n",
       "      <td>NaN</td>\n",
       "      <td>41.581147</td>\n",
       "      <td>2.751597e+08</td>\n",
       "      <td>-75.552247</td>\n",
       "      <td>31124.117876</td>\n",
       "      <td>1.453907</td>\n",
       "      <td>3.036053e+04</td>\n",
       "      <td>632.729185</td>\n",
       "      <td>4.184570</td>\n",
       "      <td>232826.663516</td>\n",
       "      <td>NaN</td>\n",
       "      <td>2017.552075</td>\n",
       "    </tr>\n",
       "    <tr>\n",
       "      <th>std</th>\n",
       "      <td>8.531514</td>\n",
       "      <td>NaN</td>\n",
       "      <td>114.032762</td>\n",
       "      <td>1214.559896</td>\n",
       "      <td>7.492993</td>\n",
       "      <td>87.053326</td>\n",
       "      <td>NaN</td>\n",
       "      <td>1.678323</td>\n",
       "      <td>9.343352e+06</td>\n",
       "      <td>6.364629</td>\n",
       "      <td>43103.621000</td>\n",
       "      <td>0.823083</td>\n",
       "      <td>2.274858e+04</td>\n",
       "      <td>1241.561023</td>\n",
       "      <td>0.539992</td>\n",
       "      <td>129413.952111</td>\n",
       "      <td>NaN</td>\n",
       "      <td>3.888968</td>\n",
       "    </tr>\n",
       "    <tr>\n",
       "      <th>min</th>\n",
       "      <td>7.000000</td>\n",
       "      <td>NaN</td>\n",
       "      <td>0.000000</td>\n",
       "      <td>700.000000</td>\n",
       "      <td>11.000000</td>\n",
       "      <td>70.000000</td>\n",
       "      <td>NaN</td>\n",
       "      <td>18.346700</td>\n",
       "      <td>6.370620e+07</td>\n",
       "      <td>-157.928000</td>\n",
       "      <td>0.000000</td>\n",
       "      <td>1.000000</td>\n",
       "      <td>2.990000e+02</td>\n",
       "      <td>0.000000</td>\n",
       "      <td>1.000000</td>\n",
       "      <td>41593.000000</td>\n",
       "      <td>NaN</td>\n",
       "      <td>1930.000000</td>\n",
       "    </tr>\n",
       "    <tr>\n",
       "      <th>25%</th>\n",
       "      <td>18.000000</td>\n",
       "      <td>NaN</td>\n",
       "      <td>14.000000</td>\n",
       "      <td>2000.000000</td>\n",
       "      <td>25.000000</td>\n",
       "      <td>175.000000</td>\n",
       "      <td>NaN</td>\n",
       "      <td>40.880800</td>\n",
       "      <td>2.743622e+08</td>\n",
       "      <td>-74.464400</td>\n",
       "      <td>7.000000</td>\n",
       "      <td>1.000000</td>\n",
       "      <td>1.829500e+04</td>\n",
       "      <td>0.000000</td>\n",
       "      <td>3.842105</td>\n",
       "      <td>65428.000000</td>\n",
       "      <td>NaN</td>\n",
       "      <td>2017.000000</td>\n",
       "    </tr>\n",
       "    <tr>\n",
       "      <th>50%</th>\n",
       "      <td>21.000000</td>\n",
       "      <td>NaN</td>\n",
       "      <td>36.000000</td>\n",
       "      <td>2500.000000</td>\n",
       "      <td>28.000000</td>\n",
       "      <td>241.000000</td>\n",
       "      <td>NaN</td>\n",
       "      <td>41.815700</td>\n",
       "      <td>2.784183e+08</td>\n",
       "      <td>-73.628400</td>\n",
       "      <td>14021.000000</td>\n",
       "      <td>1.000000</td>\n",
       "      <td>2.699900e+04</td>\n",
       "      <td>1.000000</td>\n",
       "      <td>4.285714</td>\n",
       "      <td>280659.000000</td>\n",
       "      <td>NaN</td>\n",
       "      <td>2019.000000</td>\n",
       "    </tr>\n",
       "    <tr>\n",
       "      <th>75%</th>\n",
       "      <td>25.000000</td>\n",
       "      <td>NaN</td>\n",
       "      <td>83.000000</td>\n",
       "      <td>3500.000000</td>\n",
       "      <td>32.000000</td>\n",
       "      <td>295.000000</td>\n",
       "      <td>NaN</td>\n",
       "      <td>42.501900</td>\n",
       "      <td>2.803457e+08</td>\n",
       "      <td>-71.642400</td>\n",
       "      <td>43776.000000</td>\n",
       "      <td>2.000000</td>\n",
       "      <td>3.818900e+04</td>\n",
       "      <td>899.000000</td>\n",
       "      <td>4.571429</td>\n",
       "      <td>333599.000000</td>\n",
       "      <td>NaN</td>\n",
       "      <td>2020.000000</td>\n",
       "    </tr>\n",
       "    <tr>\n",
       "      <th>max</th>\n",
       "      <td>127.000000</td>\n",
       "      <td>NaN</td>\n",
       "      <td>2624.000000</td>\n",
       "      <td>8400.000000</td>\n",
       "      <td>127.000000</td>\n",
       "      <td>903.000000</td>\n",
       "      <td>NaN</td>\n",
       "      <td>61.203100</td>\n",
       "      <td>2.816809e+08</td>\n",
       "      <td>-66.078500</td>\n",
       "      <td>785778.000000</td>\n",
       "      <td>15.000000</td>\n",
       "      <td>3.195000e+06</td>\n",
       "      <td>95484.000000</td>\n",
       "      <td>5.000000</td>\n",
       "      <td>440798.000000</td>\n",
       "      <td>NaN</td>\n",
       "      <td>2021.000000</td>\n",
       "    </tr>\n",
       "  </tbody>\n",
       "</table>\n",
       "</div>"
      ],
      "text/plain": [
       "       city_fuel_economy  combine_fuel_economy   daysonmarket  \\\n",
       "count      168272.000000                   0.0  200000.000000   \n",
       "mean           22.413081                   NaN      79.169025   \n",
       "std             8.531514                   NaN     114.032762   \n",
       "min             7.000000                   NaN       0.000000   \n",
       "25%            18.000000                   NaN      14.000000   \n",
       "50%            21.000000                   NaN      36.000000   \n",
       "75%            25.000000                   NaN      83.000000   \n",
       "max           127.000000                   NaN    2624.000000   \n",
       "\n",
       "       engine_displacement  highway_fuel_economy     horsepower  is_certified  \\\n",
       "count        189844.000000         168272.000000  189844.000000           0.0   \n",
       "mean           2845.121257             29.162546     244.913487           NaN   \n",
       "std            1214.559896              7.492993      87.053326           NaN   \n",
       "min             700.000000             11.000000      70.000000           NaN   \n",
       "25%            2000.000000             25.000000     175.000000           NaN   \n",
       "50%            2500.000000             28.000000     241.000000           NaN   \n",
       "75%            3500.000000             32.000000     295.000000           NaN   \n",
       "max            8400.000000            127.000000     903.000000           NaN   \n",
       "\n",
       "            latitude    listing_id      longitude        mileage  \\\n",
       "count  200000.000000  2.000000e+05  200000.000000  191990.000000   \n",
       "mean       41.581147  2.751597e+08     -75.552247   31124.117876   \n",
       "std         1.678323  9.343352e+06       6.364629   43103.621000   \n",
       "min        18.346700  6.370620e+07    -157.928000       0.000000   \n",
       "25%        40.880800  2.743622e+08     -74.464400       7.000000   \n",
       "50%        41.815700  2.784183e+08     -73.628400   14021.000000   \n",
       "75%        42.501900  2.803457e+08     -71.642400   43776.000000   \n",
       "max        61.203100  2.816809e+08     -66.078500  785778.000000   \n",
       "\n",
       "         owner_count         price  savings_amount  seller_rating  \\\n",
       "count  106480.000000  2.000000e+05   200000.000000  198504.000000   \n",
       "mean        1.453907  3.036053e+04      632.729185       4.184570   \n",
       "std         0.823083  2.274858e+04     1241.561023       0.539992   \n",
       "min         1.000000  2.990000e+02        0.000000       1.000000   \n",
       "25%         1.000000  1.829500e+04        0.000000       3.842105   \n",
       "50%         1.000000  2.699900e+04        1.000000       4.285714   \n",
       "75%         2.000000  3.818900e+04      899.000000       4.571429   \n",
       "max        15.000000  3.195000e+06    95484.000000       5.000000   \n",
       "\n",
       "               sp_id  vehicle_damage_category           year  \n",
       "count  199938.000000                      0.0  200000.000000  \n",
       "mean   232826.663516                      NaN    2017.552075  \n",
       "std    129413.952111                      NaN       3.888968  \n",
       "min     41593.000000                      NaN    1930.000000  \n",
       "25%     65428.000000                      NaN    2017.000000  \n",
       "50%    280659.000000                      NaN    2019.000000  \n",
       "75%    333599.000000                      NaN    2020.000000  \n",
       "max    440798.000000                      NaN    2021.000000  "
      ]
     },
     "execution_count": 7,
     "metadata": {},
     "output_type": "execute_result"
    }
   ],
   "source": [
    "cars.describe()"
   ]
  },
  {
   "cell_type": "code",
   "execution_count": 8,
   "metadata": {},
   "outputs": [
    {
     "data": {
      "image/png": "[encoded data removed]",
      "text/plain": [
       "<Figure size 1440x1080 with 20 Axes>"
      ]
     },
     "metadata": {
      "needs_background": "light"
     },
     "output_type": "display_data"
    }
   ],
   "source": [
    "%matplotlib inline\n",
    "import matplotlib.pyplot as plt\n",
    "\n",
    "cars.hist(bins=50, figsize=(20,15))\n",
    "plt.show()"
   ]
  },
  {
   "cell_type": "markdown",
   "metadata": {},
   "source": [
    "Let's make a new column grouping \"price\", this will come in handy later to ensure our test set is not running into sampling bias. "
   ]
  },
  {
   "cell_type": "code",
   "execution_count": 34,
   "metadata": {},
   "outputs": [],
   "source": [
    "import numpy as np\n",
    "\n",
    "cars[\"priceGroup\"] = pd.cut(cars[\"price\"],\n",
    "                            bins=[0., 10000., 20000.,30000., 40000., 50000., np.inf],\n",
    "                            labels=[1, 2, 3, 4, 5, 6])"
   ]
  },
  {
   "cell_type": "code",
   "execution_count": 35,
   "metadata": {},
   "outputs": [
    {
     "data": {
      "text/plain": [
       "<Axes: >"
      ]
     },
     "execution_count": 35,
     "metadata": {},
     "output_type": "execute_result"
    },
    {
     "data": {
      "image/png": "[encoded data removed]",
      "text/plain": [
       "<Figure size 432x288 with 1 Axes>"
      ]
     },
     "metadata": {
      "needs_background": "light"
     },
     "output_type": "display_data"
    }
   ],
   "source": [
    "cars[\"priceGroup\"].hist(rwidth=0.5)"
   ]
  },
  {
   "cell_type": "code",
   "execution_count": 37,
   "metadata": {},
   "outputs": [
    {
     "data": {
      "text/plain": [
       "priceGroup\n",
       "3    0.289680\n",
       "2    0.221030\n",
       "4    0.186735\n",
       "5    0.117580\n",
       "6    0.103360\n",
       "1    0.081615\n",
       "Name: count, dtype: float64"
      ]
     },
     "execution_count": 37,
     "metadata": {},
     "output_type": "execute_result"
    }
   ],
   "source": [
    "cars[\"priceGroup\"].value_counts() / len(cars)"
   ]
  },
  {
   "cell_type": "markdown",
   "metadata": {},
   "source": [
    "## Set a side a test set, before changing anything on the data structure\n",
    "\n",
    "In order to ensure that our test set stays consistent no matter how many times we rerun the program or update the dataset, we want to use a unique identifier to help us decide if the row should go into the test set or not. We can compute a hash for each row's unique identifier and if it is less than or equal to 20% of the maximum hash value, it will go into the test set. "
   ]
  },
  {
   "cell_type": "code",
   "execution_count": 36,
   "metadata": {},
   "outputs": [
    {
     "data": {
      "text/plain": [
       "0"
      ]
     },
     "execution_count": 36,
     "metadata": {},
     "output_type": "execute_result"
    }
   ],
   "source": [
    "len(cars) - len(cars[\"listing_id\"].unique()) # Making sure \"listing_id\" is unique"
   ]
  },
  {
   "cell_type": "code",
   "execution_count": 38,
   "metadata": {},
   "outputs": [],
   "source": [
    "from zlib import crc32\n",
    "\n",
    "def IDTest(ID, testRatio):\n",
    "    return crc32(np.int64(ID)) & 0xffffffff < testRatio*2**32\n",
    "\n",
    "def splitTrainTestByID(dataset,testRatio,ID):\n",
    "    IDs = dataset[ID]\n",
    "    testRows = IDs.apply(lambda ID_: IDTest(ID_, testRatio))\n",
    "    return dataset.loc[~testRows], dataset.loc[testRows]"
   ]
  },
  {
   "cell_type": "code",
   "execution_count": 39,
   "metadata": {},
   "outputs": [],
   "source": [
    "trainSet, testSet = splitTrainTestByID(cars, 0.2, \"listing_id\")"
   ]
  },
  {
   "cell_type": "code",
   "execution_count": 40,
   "metadata": {},
   "outputs": [
    {
     "data": {
      "text/plain": [
       "0.800635"
      ]
     },
     "execution_count": 40,
     "metadata": {},
     "output_type": "execute_result"
    }
   ],
   "source": [
    "len(trainSet) / len(cars) # training set should be 80%"
   ]
  },
  {
   "cell_type": "code",
   "execution_count": 41,
   "metadata": {},
   "outputs": [
    {
     "data": {
      "text/plain": [
       "0.199365"
      ]
     },
     "execution_count": 41,
     "metadata": {},
     "output_type": "execute_result"
    }
   ],
   "source": [
    "len(testSet) / len(cars) # training set should be 20%"
   ]
  },
  {
   "cell_type": "markdown",
   "metadata": {},
   "source": [
    "Let's compare our test set's price group density to the overall price group density."
   ]
  },
  {
   "cell_type": "code",
   "execution_count": 50,
   "metadata": {},
   "outputs": [
    {
     "data": {
      "text/plain": [
       "priceGroup\n",
       "3   -0.003246\n",
       "2    0.000599\n",
       "4    0.002416\n",
       "5    0.001272\n",
       "6    0.000294\n",
       "1   -0.001335\n",
       "Name: count, dtype: float64"
      ]
     },
     "execution_count": 50,
     "metadata": {},
     "output_type": "execute_result"
    }
   ],
   "source": [
    "(testSet[\"priceGroup\"].value_counts() / len(testSet)) - (cars[\"priceGroup\"].value_counts() / len(cars))\n"
   ]
  },
  {
   "cell_type": "markdown",
   "metadata": {},
   "source": [
    "The proportions of the price groups in our test set are nearly identical to the overall proportions, with the largest difference being 0.32% off. \n",
    "Therefore, it is not necessary to try and do stratified sampling. \n",
    "\n",
    "We can now be confident that our test set is a good representation of the overall dataset."
   ]
  },
  {
   "cell_type": "code",
   "execution_count": null,
   "metadata": {},
   "outputs": [],
   "source": []
  }
 ],
 "metadata": {
  "kernelspec": {
   "display_name": "base",
   "language": "python",
   "name": "python3"
  },
  "language_info": {
   "codemirror_mode": {
    "name": "ipython",
    "version": 3
   },
   "file_extension": ".py",
   "mimetype": "text/x-python",
   "name": "python",
   "nbconvert_exporter": "python",
   "pygments_lexer": "ipython3",
   "version": "3.9.7"
  }
 },
 "nbformat": 4,
 "nbformat_minor": 2
}
